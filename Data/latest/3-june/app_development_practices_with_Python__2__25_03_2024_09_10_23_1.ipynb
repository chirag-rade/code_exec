{
  "cells": [
    {
      "cell_type": "markdown",
      "id": "77a1e6b7",
      "metadata": {
        "id": "77a1e6b7"
      },
      "source": [
        "# Metadata\n",
        "\n",
        "**Topic** - app development practices with Python\n",
        "\n",
        "**Target Number of Turns (User + Assistant) - 1**\n",
        "\n",
        "**Suggested Conversation :** - How can a developer utilize Python's Django framework to implement a multi-tenant architecture for a Software as a Service (SaaS) application, ensuring data isolation and scalability?"
      ]
    },
    {
      "cell_type": "markdown",
      "id": "edae75e6",
      "metadata": {
        "id": "edae75e6"
      },
      "source": [
        "# Conversation"
      ]
    },
    {
      "cell_type": "markdown",
      "id": "4280ecf5",
      "metadata": {
        "id": "4280ecf5"
      },
      "source": [
        "**User**\n",
        "\n",
        "How can I utilize Python's Django framework to implement a multi-tenant architecture for a Software as a Service (SaaS) application, ensuring data isolation and scalability?"
      ]
    },
    {
      "cell_type": "markdown",
      "source": [
        "**Assistant**\n",
        "\n",
        "To implement a multi-tenant architecture in Django for a SaaS application, we can use the `django-tenant-schemas` library. This library allows us to manage multiple schemas within a single database, ensuring data isolation and scalability for each tenant.\n",
        "\n",
        "Install the following libraries:\n",
        "```bash\n",
        "pip install django-tenant-schemas\n",
        "```\n",
        "\n",
        "Here is how we can approach this problem:\n",
        "1. **Install and configure `django-tenant-schemas`:** This library helps in creating and managing multiple schemas within the same database.\n",
        "2. **Create tenant and public schemas:** Define models for tenants and their domains.\n",
        "3. **Set up middleware and router for tenant identification:** Configure middleware to switch schemas based on the request.\n",
        "\n",
        "Here is the python code:\n",
        "```python\n",
        "# settings.py\n",
        "INSTALLED_APPS = [\n",
        "    'django_tenant_schemas',\n",
        "    'myapp',\n",
        "    'django.contrib.contenttypes',\n",
        "    'django.contrib.auth',\n",
        "    'django.contrib.sessions',\n",
        "    'django.contrib.messages',\n",
        "    'django.contrib.staticfiles',\n",
        "]\n",
        "\n",
        "DATABASES = {\n",
        "    'default': {\n",
        "        'ENGINE': 'django_tenant_schemas.postgresql_backend',\n",
        "        'NAME': 'your_db_name',\n",
        "        'USER': 'your_db_user',\n",
        "        'PASSWORD': 'your_db_password',\n",
        "        'HOST': 'localhost',\n",
        "        'PORT': '',\n",
        "    }\n",
        "}\n",
        "# app.Model that defines your tenant\n",
        "TENANT_MODEL = \"myapp.Client\"\n",
        "# app.Model that defines your tenant's domains  \n",
        "TENANT_DOMAIN_MODEL = \"myapp.Domain\"  \n",
        "\n",
        "MIDDLEWARE = [\n",
        "    'django_tenant_schemas.middleware.TenantMiddleware',\n",
        "    'django.middleware.common.CommonMiddleware',\n",
        "    'django.contrib.sessions.middleware.SessionMiddleware',\n",
        "    'django.middleware.csrf.CsrfViewMiddleware',\n",
        "    'django.contrib.auth.middleware.AuthenticationMiddleware',\n",
        "    'django.contrib.messages.middleware.MessageMiddleware',\n",
        "    'django.middleware.clickjacking.XFrameOptionsMiddleware',\n",
        "]\n",
        "```\n",
        "\n",
        "```python\n",
        "# models.py\n",
        "from django_tenant_schemas.models import TenantMixin, DomainMixin\n",
        "from django.db import models\n",
        "\n",
        "class Client(TenantMixin):\n",
        "    name = models.CharField(max_length=100)\n",
        "    paid_until = models.DateField()\n",
        "    on_trial = models.BooleanField()\n",
        "\n",
        "class Domain(DomainMixin):\n",
        "    pass\n",
        "```\n",
        "\n",
        "After defining your models, run migrations to set up your database:\n",
        "```bash\n",
        "python manage.py makemigrations\n",
        "python manage.py migrate_schemas --shared\n",
        "```\n",
        "\n",
        "```python\n",
        "# Example usage\n",
        "# Create a tenant\n",
        "from myapp.models import Client, Domain\n",
        "from datetime import date\n",
        "\n",
        "# Create a tenant\n",
        "tenant = Client(schema_name='tenant1', name='Tenant 1', paid_until=date(2024, 12, 31), on_trial=True)\n",
        "tenant.save()\n",
        "\n",
        "# Create a domain for the tenant\n",
        "domain = Domain(domain='tenant1.example.com', tenant=tenant)\n",
        "domain.save()\n",
        "\n",
        "```\n",
        "\n",
        "Here is the code explanation:\n",
        "1. **Configuration:** `django-tenant-schemas` is added to `INSTALLED_APPS` and configured in `DATABASES` to use a PostgreSQL backend. The `TENANT_MODEL` and `TENANT_DOMAIN_MODEL` settings specify the models representing tenants and their domains.\n",
        "2. **Middleware:** The middleware configuration includes `TenantMiddleware`, which switches schemas based on the request domain, ensuring data isolation.\n",
        "3. **Models:** The `Client` model inherits from `TenantMixin`, defining tenant-specific information. The `Domain` model inherits from `DomainMixin`, linking domains to tenants.\n",
        "4. **Tenant and Domain Creation:** In the example usage, a new tenant and its associated domain are created. The tenant's schema is automatically created and switched based on the domain.\n",
        "\n",
        "This setup ensures each tenant's data is isolated within its schema, providing a scalable multi-tenant architecture.\n",
        "\n",
        "Let me know if you need further assistance!\n"
      ],
      "metadata": {
        "id": "6i4Hqg7UcwJ8"
      },
      "id": "6i4Hqg7UcwJ8"
    }
  ],
  "metadata": {
    "colab": {
      "provenance": []
    },
    "language_info": {
      "name": "python"
    },
    "kernelspec": {
      "name": "python3",
      "display_name": "Python 3"
    }
  },
  "nbformat": 4,
  "nbformat_minor": 5
}