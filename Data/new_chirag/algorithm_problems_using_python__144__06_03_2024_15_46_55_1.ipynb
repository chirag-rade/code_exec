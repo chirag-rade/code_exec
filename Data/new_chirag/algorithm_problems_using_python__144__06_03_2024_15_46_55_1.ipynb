{
  "cells": [
    {
      "cell_type": "markdown",
      "id": "4d9d7d19",
      "metadata": {
        "id": "4d9d7d19"
      },
      "source": [
        "# Metadata\n",
        "\n",
        "**Topic** - algorithm problems using python\n",
        "\n",
        "**Target Number of Turns (User + Assistant) - 1**\n",
        "\n",
        "**Suggested Conversation :** - How can a developer implement Manacher's Algorithm in Python to efficiently find the longest palindromic substring in a given text, and what modifications can be made to handle cases where the input string contains special characters or is a mix of upper and lower case letters?"
      ]
    },
    {
      "cell_type": "markdown",
      "id": "4b3bce92",
      "metadata": {
        "id": "4b3bce92"
      },
      "source": [
        "# Conversation"
      ]
    },
    {
      "cell_type": "markdown",
      "id": "24b39917",
      "metadata": {
        "id": "24b39917"
      },
      "source": [
        "**User**\n",
        "\n",
        "I want to use Manacher's Algorithm in Python to effectively discover the longest palindrome within a given text. How can I adjust it to deal with scenarios where the input string includes special characters or a mix of upper and lower case letters?"
      ]
    },
    {
      "cell_type": "markdown",
      "source": [
        "**Assistant**\n",
        "\n",
        "Perfect! To adapt Manacher's Algorithm in Python to effectively discover the longest palindrome for scenarios where the input string contains special characters or a mix of upper and lower case letters, we can preprocess the input string to remove any special characters and convert all letters to either lowercase or uppercase.\n",
        "\n",
        "Manacher's Algorithm efficiently finds the longest palindrome in a string by exploiting symmetries between palindromic centers. It preprocesses the string, expands palindromes, and maintains information about the longest palindrome found. This algorithm is widely used in tasks like string processing and pattern matching.\n",
        "\n",
        "Here is the implementation:"
      ],
      "metadata": {
        "id": "hve2dXPwDIt_"
      },
      "id": "hve2dXPwDIt_"
    },
    {
      "cell_type": "code",
      "source": [
        "# Assistant\n",
        "\n",
        "def preprocess_text(text):\n",
        "    return ''.join(char.lower() for char in text if char.isalnum())\n",
        "\n",
        "def manacher_longest_palindrome(text):\n",
        "    longest_palindrome = \"\"\n",
        "    longest_length = 0\n",
        "\n",
        "    for t in text:\n",
        "        t = preprocess_text(t)\n",
        "        n = len(t)\n",
        "        p = [0] * n\n",
        "\n",
        "        # Manacher's Algorithm\n",
        "        for i in range(n):\n",
        "            # Expand palindrome around center i (odd length)\n",
        "            j = 0\n",
        "            while i - j >= 0 and i + j < n and t[i - j] == t[i + j]:\n",
        "                j += 1\n",
        "            p[i] = j - 1\n",
        "\n",
        "            # Update longest palindrome information\n",
        "            if p[i] * 2 + 1 > longest_length:\n",
        "                longest_length = p[i] * 2 + 1\n",
        "                longest_palindrome = t[i - p[i]:i + p[i] + 1]\n",
        "\n",
        "            # Expand palindrome around centers i and i+1 (even length)\n",
        "            j = 0\n",
        "            while i - j >= 0 and i + 1 + j < n and t[i - j] == t[i + 1 + j]:\n",
        "                j += 1\n",
        "            p[i] = max(p[i], j)\n",
        "\n",
        "            # Update longest palindrome information\n",
        "            if p[i] * 2 > longest_length:\n",
        "                longest_length = p[i] * 2\n",
        "                longest_palindrome = t[i - p[i] + 1:i + p[i] + 1]\n",
        "\n",
        "    return longest_palindrome\n",
        "\n",
        "# Example usage:\n",
        "if __name__ == \"__main__\":\n",
        "    text = [\"A man, a plan, a canal: Panam\",\n",
        "           \"Hello\",\n",
        "           \"Python\",\n",
        "           \"Apple\",\n",
        "           ]\n",
        "    longest_palindrome = manacher_longest_palindrome(text)\n",
        "    print(\"Longest palindrome:\", longest_palindrome)"
      ],
      "metadata": {
        "id": "BLratWjTDICD",
        "colab": {
          "base_uri": "https://localhost:8080/"
        },
        "outputId": "31df1052-bdbf-4e1a-8def-f22fd369c7b6"
      },
      "id": "BLratWjTDICD",
      "execution_count": null,
      "outputs": [
        {
          "output_type": "stream",
          "name": "stdout",
          "text": [
            "Longest palindrome: manaplanacanalpanam\n"
          ]
        }
      ]
    },
    {
      "cell_type": "markdown",
      "source": [
        "**Assistant**\n",
        "\n",
        "Let's break down the implementation into steps:\n",
        "\n",
        "1. **Text Preprocessing:**\n",
        "  - The function `preprocess_text()` converts all characters to lowercase and remove non-alphanumeric characters.\n",
        "  - Ensures consistency in string comparison by eliminating case sensitivity and non-alphanumeric characters.\n",
        "2. **Finding Longest Palindrome:** The function `manacher_longest_palindrome()` implements Manacher's Algorithm to discover the longest palindrome. Here  are the algorithm steps:\n",
        "  - Initializes variables and data structures.\n",
        "  - Iterates over each input string.\n",
        "  - Expands palindromes around each character, considering both odd and even-length cases.\n",
        "  - Updates information about the longest palindrome found during expansion.\n",
        "  - Efficiently identifies the longest palindromic substring in each input string.\n",
        "\n",
        "In summary, the adaptation of Manacher's Algorithm in Python showcases its robustness in efficiently discovering the longest palindrome within a given text, even when the input string contains special characters or a mix of upper and lower case letters. Whether analyzing textual data for linguistic patterns or extracting meaningful information from noisy sources, this algorithmic technique offers a powerful tool for various applications in natural language processing, data mining, and beyond. Manacher's algorithm achieves linear time complexity $O(n)$ by preprocessing the string and iterating over each character twice to find palindromes. Each character is visited twice in the worst case, leading to an overall time complexity of $O(n)$."
      ],
      "metadata": {
        "id": "oJeF8vd4HwW_"
      },
      "id": "oJeF8vd4HwW_"
    }
  ],
  "metadata": {
    "colab": {
      "provenance": []
    },
    "language_info": {
      "name": "python"
    },
    "kernelspec": {
      "name": "python3",
      "display_name": "Python 3"
    }
  },
  "nbformat": 4,
  "nbformat_minor": 5
}