{
  "cells": [
    {
      "cell_type": "markdown",
      "id": "fc021b57",
      "metadata": {
        "id": "fc021b57"
      },
      "source": [
        "# Metadata\n",
        "\n",
        "**Topic** - algorithm problems using python\n",
        "\n",
        "**Target Number of Turns (User + Assistant) - 1**\n",
        "\n",
        "**Suggested Conversation :** - Given a positive integer 'a' and a prime number 'p', how would you implement a function in Python to compute the modular multiplicative inverse of 'a' under modulo 'p' using the Extended Euclidean Algorithm?"
      ]
    },
    {
      "cell_type": "markdown",
      "id": "bf137b13",
      "metadata": {
        "id": "bf137b13"
      },
      "source": [
        "# Conversation"
      ]
    },
    {
      "cell_type": "markdown",
      "id": "68b51164",
      "metadata": {
        "id": "68b51164"
      },
      "source": [
        "**User**\n",
        "\n",
        "Implement a function in Python to compute the modular multiplicative inverse of `a` under modulo `p` using the Extended Euclidean Algorithm, given a positive integer `a` and a prime number `p`?\n"
      ]
    },
    {
      "cell_type": "markdown",
      "id": "J71uojSdNnbL",
      "metadata": {
        "id": "J71uojSdNnbL"
      },
      "source": [
        "**Assistant**\n",
        "\n",
        "Absolutely! The Extended Euclidean Algorithm is used to find the modular multiplicative inverse of two integers `a` and `p`. The modular multiplicative inverse of a under `modulo p` exists if and only if `a` and `p` are coprime.\n",
        "\n",
        "Here's a step-by-step implementation of the algorithm:\n",
        "\n",
        "    1. Initialize variables `x` and `y` to keep track of the coefficients of Bézout's identity.\n",
        "    2. Perform the Extended Euclidean Algorithm to find the greatest common divisor and coefficients.\n",
        "    3. If the greatest common divisor is `1`, return the coefficient `x` as the modular multiplicative inverse.\n",
        "\n",
        "\n",
        "\n",
        "Here is Python function that uses the Extended Euclidean Algorithm to compute the modular multiplicative inverse of `a` under modulo `p`:"
      ]
    },
    {
      "cell_type": "code",
      "execution_count": null,
      "id": "W3PoYciWNuAf",
      "metadata": {
        "colab": {
          "background_save": true,
          "base_uri": "https://localhost:8080/"
        },
        "id": "W3PoYciWNuAf",
        "outputId": "bb89b108-75de-461d-9182-c141c43aedc4"
      },
      "outputs": [
        {
          "name": "stdout",
          "output_type": "stream",
          "text": [
            "The modular multiplicative inverse of 7 under modulo 3 is 1\n"
          ]
        }
      ],
      "source": [
        "# Assistant\n",
        "\n",
        "def extended_euclidean(a, p):\n",
        "    # Initialize variables x and y to keep track of the coefficients of Bézout's identity\n",
        "    current_x, previous_x = 0, 1\n",
        "    current_y, previous_y = 1, 0\n",
        "\n",
        "    original_p = p\n",
        "\n",
        "    # Perform the Extended Euclidean Algorithm\n",
        "    while a != 0:\n",
        "        quotient = p // a\n",
        "        p, a = a, p % a\n",
        "\n",
        "        # Update the coefficients\n",
        "        current_x, previous_x = previous_x - quotient * current_x, current_x\n",
        "        current_y, previous_y = previous_y - quotient * current_y, current_y\n",
        "\n",
        "    # If the greatest common divisor is 1, return the coefficient x as the modular multiplicative inverse\n",
        "    if p == 1:\n",
        "        return previous_x % original_p\n",
        "\n",
        "# Example usage\n",
        "a = 7\n",
        "p = 3\n",
        "inverse = extended_euclidean(a, p)\n",
        "if inverse is not None:\n",
        "    print(f\"The modular multiplicative inverse of {a} under modulo {p} is {inverse}\")\n",
        "else:\n",
        "    print(f\"The modular multiplicative inverse of {a} under modulo {p} does not exist\")"
      ]
    },
    {
      "cell_type": "markdown",
      "id": "brTS0hSbOWrM",
      "metadata": {
        "id": "brTS0hSbOWrM"
      },
      "source": [
        "**Assistant**\n",
        "\n",
        "This function takes two arguments: `a` and `p`. It initializes `x` and `y` to `0` and `1`, respectively, and performs the Extended Euclidean Algorithm until `a` is `0`. If `p` is 1 at the end, then `a` and `p` are coprime, and the modular multiplicative inverse exists. In this case, the function returns the inverse. Otherwise, it returns `None`."
      ]
    }
  ],
  "metadata": {
    "colab": {
      "provenance": []
    },
    "kernelspec": {
      "display_name": "Python 3",
      "name": "python3"
    },
    "language_info": {
      "name": "python"
    }
  },
  "nbformat": 4,
  "nbformat_minor": 5
}