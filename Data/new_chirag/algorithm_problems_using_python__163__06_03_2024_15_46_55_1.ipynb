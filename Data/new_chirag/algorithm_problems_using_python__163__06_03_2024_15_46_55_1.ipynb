{
  "cells": [
    {
      "cell_type": "markdown",
      "id": "558d0fc4",
      "metadata": {
        "id": "558d0fc4"
      },
      "source": [
        "# Metadata\n",
        "\n",
        "**Topic** - algorithm problems using python\n",
        "\n",
        "**Target Number of Turns (User + Assistant) - 1**\n",
        "\n",
        "**Suggested Conversation :** - How can a Python developer modify the existing Dijkstra's algorithm implementation to accommodate a graph with time-dependent edge weights, such as in a traffic system where travel times between nodes vary with the time of day?"
      ]
    },
    {
      "cell_type": "markdown",
      "id": "18c934c4",
      "metadata": {
        "id": "18c934c4"
      },
      "source": [
        "# Conversation"
      ]
    },
    {
      "cell_type": "markdown",
      "id": "fa0f0ac5",
      "metadata": {
        "id": "fa0f0ac5"
      },
      "source": [
        "**User**\n",
        "\n",
        "Modify the existing Dijkstra's algorithm implementation to accommodate a graph with time-dependent edge weights, such as in a traffic system where travel times between nodes vary with the time of day?"
      ]
    },
    {
      "cell_type": "markdown",
      "source": [
        "**Assistant**\n",
        "\n",
        "Perfect! To modify Dijkstra's algorithm implementation to accommodate a graph with time-dependent edge weights, we need to incorporate the time dimension into the algorithm.\n",
        "\n",
        "Dijkstra's algorithm is used to find the shortest path between two nodes in a weighted graph. It works by maintaining a set of nodes that have been visited and a set of nodes that have not been visited.\n",
        "\n",
        "Here is the code implementation:"
      ],
      "metadata": {
        "id": "NISCvkqyCTjB"
      },
      "id": "NISCvkqyCTjB"
    },
    {
      "cell_type": "code",
      "source": [
        "## Assistant\n",
        "\n",
        "import heapq\n",
        "\n",
        "def dijkstra_time_dependent(graph, source, destination, start_time):\n",
        "    distances = {node: float('inf') for node in graph}\n",
        "    distances[source] = 0\n",
        "    priority_queue = [(0, start_time, source)]\n",
        "\n",
        "    while priority_queue:\n",
        "        # Pop the node with the smallest distance\n",
        "        distance, current_time, current_node = heapq.heappop(priority_queue)\n",
        "\n",
        "        if current_node == destination:\n",
        "            return distance\n",
        "\n",
        "        # Skip node if it has already been visited\n",
        "        if distance > distances[current_node]:\n",
        "            continue\n",
        "\n",
        "        # Relax each neighbor of the current node\n",
        "        for neighbor, weights in graph[current_node].items():\n",
        "            for time, weight in weights:\n",
        "                new_distance = distance + weight(time)\n",
        "\n",
        "                # Update distance if new distance is shorter\n",
        "                if new_distance < distances[neighbor]:\n",
        "                    distances[neighbor] = new_distance\n",
        "                    heapq.heappush(priority_queue, (new_distance, time, neighbor))\n",
        "\n",
        "    return float('inf')\n",
        "\n",
        "# Example usage:\n",
        "\n",
        "if __name__ == \"__main__\":\n",
        "    graph = {\n",
        "      'A': {'B': [(0, lambda t: 5), (6, lambda t: 10), (12, lambda t: 20)], 'C': [(0, lambda t: 3)]},\n",
        "      'B': {'C': [(0, lambda t: 2), (9, lambda t: 6)], 'D': [(0, lambda t: 6), (10, lambda t: 10)]},\n",
        "      'C': {'D': [(0, lambda t: 4)]},\n",
        "      'D': {}\n",
        "  }\n",
        "\n",
        "    source_node = 'A'\n",
        "    destination_node = 'D'\n",
        "    start_time = 8\n",
        "\n",
        "    shortest_distance = dijkstra_time_dependent(graph, source_node, destination_node, start_time)\n",
        "\n",
        "    print(\"Shortest distance from\", source_node, \"to\", destination_node, \"at time\", start_time, \"is\", shortest_distance)\n"
      ],
      "metadata": {
        "id": "oewukEzvCTyu",
        "colab": {
          "base_uri": "https://localhost:8080/"
        },
        "outputId": "ad8e00e4-8f2b-4f79-8ffe-4fe86e6919ce"
      },
      "id": "oewukEzvCTyu",
      "execution_count": null,
      "outputs": [
        {
          "output_type": "stream",
          "name": "stdout",
          "text": [
            "Shortest distance from A to D at time 8 is 7\n"
          ]
        }
      ]
    },
    {
      "cell_type": "markdown",
      "source": [
        "**Assistant**\n",
        "\n",
        "Let's break down the implementation into steps:\n",
        "\n",
        "1. **`dijkstra_time_dependent`:**\n",
        "\n",
        "  - The distances dictionary is initialized to store the shortest distances from the source node to each node in the graph. All distances are initialized to infinity except for the source node, which is set to 0.\n",
        "  - The priority queue is initialized as a list of tuples, where each tuple represents a node in the graph. Each tuple contains three elements: the distance from the source node to the current node, the current time of day, and the current node itself.\n",
        "\n",
        "2. **`priority_queue`:**\n",
        "\n",
        "  - The loop continues until the priority queue is empty.\n",
        "  - In each iteration, the node with the smallest distance is popped from the priority queue.\n",
        "  - If the popped node is the destination node, the function returns the shortest distance found.\n",
        "  - If the distance to the current node is greater than the distance stored in the distances dictionary, the current node is skipped, as it has already been visited.\n",
        "3. **Edge Relaxation:**\n",
        "\n",
        "  - For each neighbor of the current node, the function iterates over the time-dependent weights associated with the edge connecting the current node to the neighbor.\n",
        "  - It calculates the new distance from the source node to the neighbor using the time-dependent weight function.\n",
        "  - If the new distance is shorter than the distance currently stored in the distances dictionary for the neighbor, the distances dictionary is updated, and the neighbor is pushed onto the priority queue with the new distance and current time of day.\n",
        "\n",
        "4. **Returning the Shortest Distance:**\n",
        "If the destination node is not reached, the function returns infinity.\n",
        "\n",
        "In summary, the adapted Dijkstra's algorithm now accommodates time-dependent edge weights, essential for scenarios like traffic systems where travel times vary throughout the day. By integrating time into the shortest path calculation, the algorithm becomes more applicable to real-world situations, offering accurate route planning. Using a priority queue, it efficiently explores the graph, considering both distance and time factors. With a time complexity of $O((n + m) \\log n)$, where $n$ is the number of nodes and $m$ is the number of edges, it strikes a balance between computational efficiency and accuracy, making it suitable for various time-sensitive applications.\n"
      ],
      "metadata": {
        "id": "uD0unhJTCUYM"
      },
      "id": "uD0unhJTCUYM"
    }
  ],
  "metadata": {
    "colab": {
      "provenance": []
    },
    "language_info": {
      "name": "python"
    },
    "kernelspec": {
      "name": "python3",
      "display_name": "Python 3"
    }
  },
  "nbformat": 4,
  "nbformat_minor": 5
}