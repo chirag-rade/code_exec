{
  "cells": [
    {
      "cell_type": "markdown",
      "id": "90825428",
      "metadata": {
        "id": "90825428"
      },
      "source": [
        "# Metadata"
      ]
    },
    {
      "cell_type": "markdown",
      "id": "8aeeedb4",
      "metadata": {
        "id": "8aeeedb4"
      },
      "source": [
        "# Conversation"
      ]
    },
    {
      "cell_type": "markdown",
      "id": "cf58213c",
      "metadata": {
        "id": "cf58213c"
      },
      "source": [
        "**User**\n",
        "\n",
        "Can you give me a python code for binary search"
      ]
    },
    {
      "cell_type": "markdown",
      "id": "25b466db",
      "metadata": {},
      "source": [
        "**Assistant**\n",
        "\n",
        "\n",
        "Binary search is an efficient algorithm for finding an item from a sorted list of items. It works by repeatedly dividing in half the portion of the list that could contain the item, until you've narrowed down the possible locations to just one. \n",
        "\n",
        "Here is a sample code that you can follow"
      ]
    },
    {
      "cell_type": "code",
      "execution_count": null,
      "id": "211d1140",
      "metadata": {},
      "outputs": [],
      "source": [
        "# Assistant\n",
        "\n",
        "def binary_search(arr, low, high, x):\n",
        "    # Check base case\n",
        "    if high >= low:\n",
        "        mid = (high + low) // 2\n",
        "        # If element is present at the middle itself\n",
        "        if arr[mid] == x:\n",
        "            return mid\n",
        "        # If element is smaller than mid, then it can only be present in left subarray\n",
        "        elif arr[mid] > x:\n",
        "            return binary_search(arr, low, mid - 1, x)\n",
        "        # Else the element can only be present in right subarray\n",
        "        else:\n",
        "            return binary_search(arr, mid + 1, high, x)\n",
        "    else:\n",
        "        # Element is not present in array\n",
        "        return -1\n"
      ]
    },
    {
      "cell_type": "code",
      "execution_count": null,
      "id": "c01681b0",
      "metadata": {},
      "outputs": [],
      "source": [
        "# Assistant \n",
        "\n",
        "# Here is an example usage of the binary search function:\n",
        "\n",
        "# Let's say we have a sorted list of numbers\n",
        "numbers = [2, 3, 4, 10, 40]\n",
        "\n",
        "# And we want to find the index of the number 10 in the list\n",
        "target = 10\n",
        "\n",
        "# We can use the binary_search function to do this\n",
        "index = binary_search(numbers, 0, len(numbers) - 1, target)\n",
        "\n",
        "# The function will return the index of the target in the list, or -1 if the target is not in the list\n",
        "print(f\"The index of {target} in the list is: {index}\")\n"
      ]
    }
  ],
  "metadata": {
    "colab": {
      "provenance": []
    },
    "language_info": {
      "name": "python"
    }
  },
  "nbformat": 4,
  "nbformat_minor": 5
}
