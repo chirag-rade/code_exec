{
  "cells": [
    {
      "cell_type": "markdown",
      "id": "90825428",
      "metadata": {
        "id": "90825428"
      },
      "source": [
        "# Metadata"
      ]
    },
    {
      "cell_type": "markdown",
      "id": "8aeeedb4",
      "metadata": {
        "id": "8aeeedb4"
      },
      "source": [
        "# Conversation"
      ]
    },
    {
      "cell_type": "markdown",
      "id": "cf58213c",
      "metadata": {
        "id": "cf58213c"
      },
      "source": [
        "**User**\n",
        "\n",
        "How can I read a csv file in python and disply basic statistics for the same ?"
      ]
    },
    {
      "cell_type": "markdown",
      "id": "25b466db",
      "metadata": {},
      "source": [
        "**Assistant**\n",
        "\n",
        "\n",
        "\n",
        "You can use the csv module to work with csv files.\n",
        "\n",
        "Here is a sample code that you can follow"
      ]
    },
    {
      "cell_type": "code",
      "execution_count": null,
      "id": "211d1140",
      "metadata": {},
      "outputs": [],
      "source": [
        "# Assistant\n",
        "\n",
        "import csv\n",
        "\n",
        "\n",
        "# Read the CSV file\n",
        "with open('your_file.csv', 'r') as file:\n",
        "    reader = csv.reader(file)\n",
        "    data = list(reader)\n",
        "\n",
        "# Assuming the data is numerical\n",
        "data = [list(map(float, row)) for row in data[1:]]  # Skip header and convert to float\n",
        "\n",
        "# Display basic statistics\n",
        "for i in range(len(data[0])):\n",
        "    column = [row[i] for row in data]\n",
        "    print(f\"Column {i+1}:\")\n",
        "    print(f\"Count: {len(column)}\")\n",
        "    print(f\"Mean: {statistics.mean(column)}\")\n",
        "    print(f\"Standard Deviation: {statistics.stdev(column)}\")\n",
        "    print(f\"Minimum: {min(column)}\")\n",
        "    print(f\"Maximum: {max(column)}\")"
      ]
    }
  ],
  "metadata": {
    "colab": {
      "provenance": []
    },
    "language_info": {
      "name": "python"
    }
  },
  "nbformat": 4,
  "nbformat_minor": 5
}
