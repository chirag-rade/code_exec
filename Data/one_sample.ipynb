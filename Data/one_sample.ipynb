{
 "cells": [
  {
   "cell_type": "code",
   "execution_count": null,
   "metadata": {},
   "outputs": [],
   "source": [
    "# Assistant\n",
    "\n",
    "import pandas as pd\n",
    "\n",
    "# Read the CSV file\n",
    "df = pd.read_csv('your_file.csv')\n",
    "\n",
    "# Display the first 5 rows of the DataFrame\n",
    "print(\"First 5 rows of the DataFrame:\")\n",
    "print(df.head())\n",
    "\n",
    "# Display the last 5 rows of the DataFrame\n",
    "print(\"\\nLast 5 rows of the DataFrame:\")\n",
    "print(df.tail())\n",
    "\n",
    "# Display the basic statistics of the DataFrame\n",
    "print(\"\\nBasic statistics of the DataFrame:\")\n",
    "print(df.describe())\n",
    "\n",
    "# Display the number of missing values in each column\n",
    "print(\"\\nNumber of missing values in each column:\")\n",
    "print(df.isnull().sum())\n",
    "\n",
    "# Display the number of unique values in each column\n",
    "print(\"\\nNumber of unique values in each column:\")\n",
    "print(df.nunique())\n",
    "\n",
    "# Display the correlation matrix\n",
    "print(\"\\nCorrelation matrix:\")\n",
    "print(df.corr())\n",
    "\n"
   ]
  }
 ],
 "metadata": {
  "language_info": {
   "name": "python"
  }
 },
 "nbformat": 4,
 "nbformat_minor": 2
}
