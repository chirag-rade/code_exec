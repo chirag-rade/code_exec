{
  "cells": [
    {
      "cell_type": "markdown",
      "id": "90825428",
      "metadata": {
        "id": "90825428"
      },
      "source": [
        "# Metadata\n",
        "\n",
        "***Fundamental***\n",
        "\n",
        "**Project / Action:** -  write code in python [(Detailed Guide Here)](https://docs.google.com/document/u/0/d/1rP2bClvPc_5QniaarmEGbDwJ81tDdQ_sxScho5kkxeM/)\n",
        "\n",
        "**Technical Domain:** - python basics & scripting\n",
        "\n",
        "***Inspirational***\n",
        "\n",
        "**User Profile:** - The developer is analytical and confident, with a preference for concise and practical solutions that can be implemented quickly.\n",
        "\n",
        "**Use Case:** - A developer needs to create a Python script that reads a binary file containing records of a custom structure (let's say, employee data with 'id' as an integer and 'name' as a fixed-length string). They want to be able to seek to a specific record number and update the name field for that record without rewriting the entire file. How would they implement the seek and write operations to modify only the necessary bytes in the binary file?"
      ]
    },
    {
      "cell_type": "markdown",
      "id": "8aeeedb4",
      "metadata": {
        "id": "8aeeedb4"
      },
      "source": [
        "# Conversation"
      ]
    },
    {
      "cell_type": "markdown",
      "id": "cf58213c",
      "metadata": {
        "id": "cf58213c"
      },
      "source": [
        "**User**\n",
        "\n",
        "Hi, I'm looking for a solution to include a feature on my small business website where users can securely upload financial documents for review. I want to make sure the files are scanned for malware and that the data is encrypted both during transfer and storage. Can you suggest a Python-based solution that can help me achieve this?"
      ]
    },
    {
      "cell_type": "code",
      "execution_count": null,
      "id": "211d1140",
      "metadata": {},
      "outputs": [],
      "source": [
        "# Assistant\n",
        "\n",
        "def binary_search(arr, low, high, x):\n",
        "    # Check base case\n",
        "    if high >= low:\n",
        "        mid = (high + low) // 2\n",
        "        # If element is present at the middle itself\n",
        "        if arr[mid] == x:\n",
        "            return mid\n",
        "        # If element is smaller than mid, then it can only be present in left subarray\n",
        "        elif arr[mid] > x:\n",
        "            return binary_search(arr, low, mid - 1, x)\n",
        "        # Else the element can only be present in right subarray\n",
        "        else:\n",
        "            return binary_search(arr, mid + 1, high, x)\n",
        "    else:\n",
        "        # Element is not present in array\n",
        "        return -1\n"
      ]
    }
  ],
  "metadata": {
    "colab": {
      "provenance": []
    },
    "language_info": {
      "name": "python"
    }
  },
  "nbformat": 4,
  "nbformat_minor": 5
}
