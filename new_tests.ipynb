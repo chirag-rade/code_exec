{
 "cells": [
  {
   "cell_type": "code",
   "execution_count": 1,
   "metadata": {},
   "outputs": [
    {
     "name": "stdout",
     "output_type": "stream",
     "text": [
      "{\"detail\":\"User is not allowed to create run. UserProjectRole with User Email 'daniel.oluwakayode-c@turing.com', Engagement Name 'public-engagement' and Project Name 'beta-test' not found\"}\n",
      "Authentication failed.\n"
     ]
    }
   ],
   "source": [
    "from llm_as_evaluator_client.client import LLMasEvaluator\n",
    "from dotenv import load_dotenv\n",
    "from langchain_core.messages import (\n",
    "    AIMessage,\n",
    "    FunctionMessage,\n",
    "    HumanMessage,\n",
    ")\n",
    "from langchain_core.prompts import ChatPromptTemplate, MessagesPlaceholder\n",
    "import json\n",
    "from Models.models import LLMModel\n",
    "from enum import Enum\n",
    "from typing import Annotated, List, Sequence, TypedDict\n",
    "from langchain_core.messages import BaseMessage\n",
    "from pydantic import BaseModel, Field\n",
    "import operator\n",
    "\n",
    "load_dotenv()\n",
    "\n",
    "LOCAL_BASE_URL = \"http://127.0.0.1:8887\"\n",
    "REMOTE_BASE_URL = \"https://llm-as-evaluator.turing.com\"\n",
    "llm_as_evaluator = LLMasEvaluator(REMOTE_BASE_URL, \"public-engagement\", \"beta-test\")\n"
   ]
  },
  {
   "cell_type": "code",
   "execution_count": 12,
   "metadata": {},
   "outputs": [
    {
     "data": {
      "text/plain": [
       "[{'status': 'OK',\n",
       "  'metadata': {'metadata': '# Metadata\\n\\n**Topic** - algorithm problems using python\\n\\n**Target Number of Turns (User + Assistant) - 3**\\n\\n**Suggested Conversation :** - How can a Python developer implement a parallel merge sort algorithm using the multiprocessing module to sort a large dataset, and what considerations should be taken into account regarding data partitioning and process synchronization?'},\n",
       "  'conversation': [{'cell_pos': 1,\n",
       "    'role': 'User',\n",
       "    'content': 'I need to sort a large dataset. Implement a parallel merge sort in Python using multiprocessing and explain what considerations should be taken into account regarding data partitioning and process synchronization.',\n",
       "    'type': 'markdown'},\n",
       "   {'cell_pos': 2,\n",
       "    'role': 'Assistant',\n",
       "    'content': 'A parallel merge sort can be implemented following these steps:\\n1. define the number of processes to use. Usually, this number is the same as the CPU core count of the system\\n2. split the data into *n* chunks, where *n* is the number of processes.\\n3. allocate each chunk to a process for sorting\\n4. merge the sorted results\\n\\n\\nHere is how it can be implemented:',\n",
       "    'type': 'markdown'},\n",
       "   {'cell_pos': 3,\n",
       "    'role': 'Assistant',\n",
       "    'content': 'import math\\nimport multiprocessing\\n\\n\\ndef parallel_merge_sort(input, processes):\\n    print(f\"Sorting {len(input)} in parallel with {processes} processes\")\\n    # Divide the input array into n chunks\\n    chunk_size = math.ceil(len(input) / processes)\\n    chunks = [input[chunk_size * i : chunk_size * (i + 1)] for i in range(processes)]\\n\\n    # Create a process pool and map each chunk to be sorted\\n    pool = multiprocessing.Pool(processes)\\n    with pool:\\n        mapping = pool.map(merge_sort_exception_handler, chunks)\\n\\n    if any(part is None for part in mapping):\\n        raise Exception(\"Error while sorting\")\\n\\n    # Then merge the sorted arrays\\n    return merge_results(mapping)\\n\\n\\ndef merge_sort_exception_handler(input):\\n    try:\\n        return merge_sort(input)\\n    except Exception as e:\\n        print(f\"Error: {e}\")\\n        return None\\n\\n\\n# A simple merge sort\\ndef merge_sort(input):\\n    if len(input) <= 1:\\n        return input\\n\\n    mid = len(input) // 2\\n    left_half = input[:mid]\\n    right_half = input[mid:]\\n    return merge(merge_sort(left_half), merge_sort(right_half))\\n\\n\\n# Almost the same as merge sort, but its only task is to join the results\\ndef merge_results(arrays):\\n    if len(arrays) == 1:\\n        return arrays[0]\\n\\n    mid = len(arrays) // 2\\n    left_half = arrays[:mid]\\n    right_half = arrays[mid:]\\n\\n    # Here we can use the same merge function as merge_sort\\n    return merge(merge_results(left_half), merge_results(right_half))\\n\\n\\ndef merge(left, right):\\n    result = []\\n    i = j = 0\\n    while i < len(left) and j < len(right):\\n        if left[i] < right[j]:\\n            result.append(left[i])\\n            i += 1\\n        else:\\n            result.append(right[j])\\n            j += 1\\n    result += left[i:]\\n    result += right[j:]\\n    return result\\n\\n# Example usage\\nimport os\\nimport random\\n\\n# Don\\'t forget to put this inside the __main__ condition\\nif __name__ == \"__main__\":\\n    elements = 100_000\\n    input_array = random.sample(range(elements), elements)\\n    print(parallel_merge_sort(input=input_array, processes=os.cpu_count() or 1))',\n",
       "    'type': 'code'},\n",
       "   {'cell_pos': 4,\n",
       "    'role': 'Assistant',\n",
       "    'content': 'Here\\'s a brief explanation of `parallel_merge_sort` and why data partitioning and process synchronization are crucial:\\n\\n1. **Data Partitioning:** Initially, the input array is evenly divided among the available processes, with each process receiving a portion of the data, known as a chunk. This partitioning is fundamental to parallel processing efficiency. Equal distribution of data ensures that all processes have an approximately equal workload, which prevents scenarios where some processors are idle waiting for others to complete. An even partitioning optimizes resource utilization and contributes to a more uniform processing time across the board.\\n\\n2. **Independent Sorting:** Each process then independently sorts its assigned chunk using the merge sort algorithm. This step exemplifies the essence of parallel computation, where multiple sub-tasks (in this case, sorting smaller arrays) are executed concurrently. Since these operations are independent, there\\'s no need for synchronization during this phase, which minimizes the complexity and overhead usually associated with concurrent modifications to shared data.\\n\\n3. **Synchronization and Merging:** After all processes have completed their sorting tasks, the main program synchronizes these processes to ensure all sorting is finished before proceeding. This synchronization is crucial as it marks the transition from independent parallel operations to a sequential merging phase. The sorted chunks are then merged by the main program, not in parallel but rather sequentially, in a single process. This merging process itself involves sorting as it combines the chunks, ensuring the final array is sorted correctly.\\n\\n**Important Considerations:**\\n\\n- **Even Data Distribution:** As mentioned, ensuring that data is evenly distributed among the processes is crucial for achieving optimal performance. An imbalance in the distribution can cause some processes to be overburdened while others sit idle, leading to suboptimal utilization of computational resources.\\n\\n- **Handling Race Conditions:** In parallel computing, race conditions can occur when multiple processes attempt to read, write, or change shared data simultaneously. Proper synchronization mechanisms must be in place to prevent these issues, ensuring data integrity and correctness of the final sorted array.\\n\\n- **Overhead Management:** The benefits of parallel processing come with the cost of additional overhead for process management. This includes the time and resources needed to start processes, divide the data, and merge the sorted chunks. For smaller datasets, the overhead may outweigh the benefits, making a single-threaded approach more efficient.\\n\\n- **Memory Usage:** Parallel merge sort can also increase the total memory footprint, as data needs to be duplicated across processes. This can impact performance, especially on systems with limited memory resources.\\n\\n\\nNote: If you are running everything from a single file, do not forget to put the element initialization and the call to `parallel_merge_sort` inside the `if __name__ == \"__main__\"` condition; otherwise, it will be run every time the multiprocessing module spawns a new instance to run the sorting function.',\n",
       "    'type': 'markdown'},\n",
       "   {'cell_pos': 5,\n",
       "    'role': 'User',\n",
       "    'content': 'Why is a single-threaded approach better for smaller sequences?',\n",
       "    'type': 'markdown'},\n",
       "   {'cell_pos': 6,\n",
       "    'role': 'Assistant',\n",
       "    'content': 'For smaller sequences, a single-threaded approach could be more efficient because the overhead of managing multiple processes may outweigh the benefits of parallelization. This overhead includes creating, coordinating, and communicating between processes. When the sequence is large, the benefits of parallelized computing (faster processing due to simultaneous execution) can outpace this overhead, thus making parallel sorting a more effective option.\\n\\nStill, the given code for sorting and merging data might not meet the performance expectations for handling large datasets in practical applications. These code snippets are primarily used to demonstrate the concept and should be substituted with more efficient techniques when dealing with high-performance demands.',\n",
       "    'type': 'markdown'},\n",
       "   {'cell_pos': 7,\n",
       "    'role': 'User',\n",
       "    'content': 'And what techniques could I use when dealing with high-performance demands?',\n",
       "    'type': 'markdown'},\n",
       "   {'cell_pos': 8,\n",
       "    'role': 'Assistant',\n",
       "    'content': \"If you're searching for optimal efficiency, it may be best to leverage a lower-level language like C/C++, Rust, or Go. However, if your project necessitates the use of Python, you have a few alternatives at your disposal:\\n\\n1. Implement a high-performance framework such as Numba, which has the ability to compile your functions just-in-time (JIT) and can even execute them on CUDA cores.\\n2. Venturing into using a different Python interpreter, such as PyPy.\\n3. Opt for a language similar to Python, like Cython.\",\n",
       "    'type': 'markdown'}]}]"
      ]
     },
     "execution_count": 12,
     "metadata": {},
     "output_type": "execute_result"
    }
   ],
   "source": [
    "file = \"Data/new_chirag/algorithm_problems_using_python__4__19_03_2024_12_55_37_1.ipynb\"\n",
    "with open(file, \"r\") as f:\n",
    "    # files as strings\n",
    "    notebook_contents = f.read()\n",
    "    \n",
    "    \n",
    "parsed_notebooks = llm_as_evaluator.parse_notebooks([notebook_contents])\n",
    "parsed_notebooks"
   ]
  },
  {
   "cell_type": "code",
   "execution_count": 13,
   "metadata": {},
   "outputs": [],
   "source": [
    "def extract_conversation(parsed_notebooks):\n",
    "    conversations = []\n",
    "    for notebook in parsed_notebooks:\n",
    "        conversation = notebook.get('conversation', [])\n",
    "        turn = []\n",
    "        for i in range(len(conversation)):\n",
    "            if i == 0 or conversation[i]['role'] != conversation[i-1]['role']:\n",
    "                if turn:\n",
    "                    conversations.append(turn)\n",
    "                turn = [{'role': conversation[i]['role'], 'content': conversation[i]['content']}]\n",
    "            else:\n",
    "                turn.append({'role': conversation[i]['role'], 'content': conversation[i]['content']})\n",
    "        if turn:\n",
    "            conversations.append(turn)\n",
    "    return conversations\n",
    "\n",
    "# usage\n",
    "conversation_turns = extract_conversation(parsed_notebooks)"
   ]
  },
  {
   "cell_type": "code",
   "execution_count": 26,
   "metadata": {},
   "outputs": [
    {
     "data": {
      "text/plain": [
       "[{'role': 'Assistant',\n",
       "  'content': 'A parallel merge sort can be implemented following these steps:\\n1. define the number of processes to use. Usually, this number is the same as the CPU core count of the system\\n2. split the data into *n* chunks, where *n* is the number of processes.\\n3. allocate each chunk to a process for sorting\\n4. merge the sorted results\\n\\n\\nHere is how it can be implemented:'},\n",
       " {'role': 'Assistant',\n",
       "  'content': 'import math\\nimport multiprocessing\\n\\n\\ndef parallel_merge_sort(input, processes):\\n    print(f\"Sorting {len(input)} in parallel with {processes} processes\")\\n    # Divide the input array into n chunks\\n    chunk_size = math.ceil(len(input) / processes)\\n    chunks = [input[chunk_size * i : chunk_size * (i + 1)] for i in range(processes)]\\n\\n    # Create a process pool and map each chunk to be sorted\\n    pool = multiprocessing.Pool(processes)\\n    with pool:\\n        mapping = pool.map(merge_sort_exception_handler, chunks)\\n\\n    if any(part is None for part in mapping):\\n        raise Exception(\"Error while sorting\")\\n\\n    # Then merge the sorted arrays\\n    return merge_results(mapping)\\n\\n\\ndef merge_sort_exception_handler(input):\\n    try:\\n        return merge_sort(input)\\n    except Exception as e:\\n        print(f\"Error: {e}\")\\n        return None\\n\\n\\n# A simple merge sort\\ndef merge_sort(input):\\n    if len(input) <= 1:\\n        return input\\n\\n    mid = len(input) // 2\\n    left_half = input[:mid]\\n    right_half = input[mid:]\\n    return merge(merge_sort(left_half), merge_sort(right_half))\\n\\n\\n# Almost the same as merge sort, but its only task is to join the results\\ndef merge_results(arrays):\\n    if len(arrays) == 1:\\n        return arrays[0]\\n\\n    mid = len(arrays) // 2\\n    left_half = arrays[:mid]\\n    right_half = arrays[mid:]\\n\\n    # Here we can use the same merge function as merge_sort\\n    return merge(merge_results(left_half), merge_results(right_half))\\n\\n\\ndef merge(left, right):\\n    result = []\\n    i = j = 0\\n    while i < len(left) and j < len(right):\\n        if left[i] < right[j]:\\n            result.append(left[i])\\n            i += 1\\n        else:\\n            result.append(right[j])\\n            j += 1\\n    result += left[i:]\\n    result += right[j:]\\n    return result\\n\\n# Example usage\\nimport os\\nimport random\\n\\n# Don\\'t forget to put this inside the __main__ condition\\nif __name__ == \"__main__\":\\n    elements = 100_000\\n    input_array = random.sample(range(elements), elements)\\n    print(parallel_merge_sort(input=input_array, processes=os.cpu_count() or 1))'},\n",
       " {'role': 'Assistant',\n",
       "  'content': 'Here\\'s a brief explanation of `parallel_merge_sort` and why data partitioning and process synchronization are crucial:\\n\\n1. **Data Partitioning:** Initially, the input array is evenly divided among the available processes, with each process receiving a portion of the data, known as a chunk. This partitioning is fundamental to parallel processing efficiency. Equal distribution of data ensures that all processes have an approximately equal workload, which prevents scenarios where some processors are idle waiting for others to complete. An even partitioning optimizes resource utilization and contributes to a more uniform processing time across the board.\\n\\n2. **Independent Sorting:** Each process then independently sorts its assigned chunk using the merge sort algorithm. This step exemplifies the essence of parallel computation, where multiple sub-tasks (in this case, sorting smaller arrays) are executed concurrently. Since these operations are independent, there\\'s no need for synchronization during this phase, which minimizes the complexity and overhead usually associated with concurrent modifications to shared data.\\n\\n3. **Synchronization and Merging:** After all processes have completed their sorting tasks, the main program synchronizes these processes to ensure all sorting is finished before proceeding. This synchronization is crucial as it marks the transition from independent parallel operations to a sequential merging phase. The sorted chunks are then merged by the main program, not in parallel but rather sequentially, in a single process. This merging process itself involves sorting as it combines the chunks, ensuring the final array is sorted correctly.\\n\\n**Important Considerations:**\\n\\n- **Even Data Distribution:** As mentioned, ensuring that data is evenly distributed among the processes is crucial for achieving optimal performance. An imbalance in the distribution can cause some processes to be overburdened while others sit idle, leading to suboptimal utilization of computational resources.\\n\\n- **Handling Race Conditions:** In parallel computing, race conditions can occur when multiple processes attempt to read, write, or change shared data simultaneously. Proper synchronization mechanisms must be in place to prevent these issues, ensuring data integrity and correctness of the final sorted array.\\n\\n- **Overhead Management:** The benefits of parallel processing come with the cost of additional overhead for process management. This includes the time and resources needed to start processes, divide the data, and merge the sorted chunks. For smaller datasets, the overhead may outweigh the benefits, making a single-threaded approach more efficient.\\n\\n- **Memory Usage:** Parallel merge sort can also increase the total memory footprint, as data needs to be duplicated across processes. This can impact performance, especially on systems with limited memory resources.\\n\\n\\nNote: If you are running everything from a single file, do not forget to put the element initialization and the call to `parallel_merge_sort` inside the `if __name__ == \"__main__\"` condition; otherwise, it will be run every time the multiprocessing module spawns a new instance to run the sorting function.'}]"
      ]
     },
     "execution_count": 26,
     "metadata": {},
     "output_type": "execute_result"
    }
   ],
   "source": [
    "conversation_turns[1]"
   ]
  },
  {
   "cell_type": "code",
   "execution_count": 5,
   "metadata": {},
   "outputs": [],
   "source": [
    "class TurnClassification(BaseModel):\n",
    "    \"\"\"TurnClassification\"\"\"\n",
    "    has_code: bool = Field(description=\"Indicates if the turn has code\")\n",
    "    complete_code: bool = Field(description=\"Indicates if the code is complete and can be executed independently\")\n",
    "    can_be_tested: bool = Field(description=\"Indicates if the code can be tested\")\n",
    "    code: str = Field(description=\"The actual code as a string\")\n",
    "    dependencies: List[str] = Field(description=\"List of dependencies required for the code\")\n"
   ]
  },
  {
   "cell_type": "code",
   "execution_count": 6,
   "metadata": {},
   "outputs": [],
   "source": [
    "\n",
    "\n",
    "\n",
    "#Base Prompt Template   \n",
    "def get_base_prompt_template(name=None, custom_instructions=None, agents=None):\n",
    "    prompt_template = ChatPromptTemplate.from_messages(\n",
    "    [\n",
    "    (\n",
    "    \"system\",\n",
    "    \"Your name is {name} and you are working along side other agents as listed below \"\n",
    "    \"Agents: \\n {agents} \"\n",
    "    \"{custom_instructions} \"\n",
    "    \"\"\n",
    "    )\n",
    "    ]\n",
    "    )\n",
    "    \n",
    "    prompt_template = prompt_template.partial(name=name)\n",
    "    prompt_template = prompt_template.partial(agents=agents)\n",
    "    prompt_template = prompt_template.partial(custom_instructions=custom_instructions if custom_instructions else \"\")\n",
    "    return prompt_template"
   ]
  },
  {
   "cell_type": "code",
   "execution_count": 7,
   "metadata": {},
   "outputs": [],
   "source": [
    "#CODE EXTRACTORS\n",
    "code_extractor_prompt_template = get_base_prompt_template(\n",
    "    name=\"code_extractor\",\n",
    "    custom_instructions=\"Your role is to extract the code provided by the AI assistant from the conversation in the notebook. \"\n",
    "                        \"Once you've extracted the code, forward it to the agent named testers without making any changes. \",\n",
    "    agents=\"testers\"\n",
    ")\n",
    "\n",
    "code_extractor = LLMModel(\n",
    "    provider=\"openai_api\",\n",
    "    model=\"gpt-4o\",\n",
    "    use_history=False,\n",
    "    #use_tool=False,\n",
    "    output_schema=TurnClassification,\n",
    "    prompt_template=code_extractor_prompt_template\n",
    ")"
   ]
  },
  {
   "cell_type": "code",
   "execution_count": 27,
   "metadata": {},
   "outputs": [
    {
     "name": "stdout",
     "output_type": "stream",
     "text": [
      "Validating output schema.....\n"
     ]
    },
    {
     "data": {
      "text/plain": [
       "{'has_code': True,\n",
       " 'complete_code': True,\n",
       " 'can_be_tested': True,\n",
       " 'code': 'import math\\nimport multiprocessing\\n\\n\\ndef parallel_merge_sort(input, processes):\\n    print(f\"Sorting {len(input)} in parallel with {processes} processes\")\\n    # Divide the input array into n chunks\\n    chunk_size = math.ceil(len(input) / processes)\\n    chunks = [input[chunk_size * i : chunk_size * (i + 1)] for i in range(processes)]\\n\\n    # Create a process pool and map each chunk to be sorted\\n    pool = multiprocessing.Pool(processes)\\n    with pool:\\n        mapping = pool.map(merge_sort_exception_handler, chunks)\\n\\n    if any(part is None for part in mapping):\\n        raise Exception(\"Error while sorting\")\\n\\n    # Then merge the sorted arrays\\n    return merge_results(mapping)\\n\\n\\ndef merge_sort_exception_handler(input):\\n    try:\\n        return merge_sort(input)\\n    except Exception as e:\\n        print(f\"Error: {e}\")\\n        return None\\n\\n\\n# A simple merge sort\\ndef merge_sort(input):\\n    if len(input) <= 1:\\n        return input\\n\\n    mid = len(input) // 2\\n    left_half = input[:mid]\\n    right_half = input[mid:]\\n    return merge(merge_sort(left_half), merge_sort(right_half))\\n\\n\\n# Almost the same as merge sort, but its only task is to join the results\\ndef merge_results(arrays):\\n    if len(arrays) == 1:\\n        return arrays[0]\\n\\n    mid = len(arrays) // 2\\n    left_half = arrays[:mid]\\n    right_half = arrays[mid:]\\n\\n    # Here we can use the same merge function as merge_sort\\n    return merge(merge_results(left_half), merge_results(right_half))\\n\\n\\ndef merge(left, right):\\n    result = []\\n    i = j = 0\\n    while i < len(left) and j < len(right):\\n        if left[i] < right[j]:\\n            result.append(left[i])\\n            i += 1\\n        else:\\n            result.append(right[j])\\n            j += 1\\n    result += left[i:]\\n    result += right[j:]\\n    return result\\n\\n# Example usage\\nimport os\\nimport random\\n\\n# Don\\'t forget to put this inside the __main__ condition\\nif __name__ == \"__main__\":\\n    elements = 100_000\\n    input_array = random.sample(range(elements), elements)\\n    print(parallel_merge_sort(input=input_array, processes=os.cpu_count() or 1))',\n",
       " 'dependencies': ['math', 'multiprocessing', 'os', 'random']}"
      ]
     },
     "execution_count": 27,
     "metadata": {},
     "output_type": "execute_result"
    }
   ],
   "source": [
    "message = json.dumps(conversation_turns[1])\n",
    "code_extractor([HumanMessage(message)])"
   ]
  }
 ],
 "metadata": {
  "kernelspec": {
   "display_name": "evaluator",
   "language": "python",
   "name": "python3"
  },
  "language_info": {
   "codemirror_mode": {
    "name": "ipython",
    "version": 3
   },
   "file_extension": ".py",
   "mimetype": "text/x-python",
   "name": "python",
   "nbconvert_exporter": "python",
   "pygments_lexer": "ipython3",
   "version": "3.12.3"
  }
 },
 "nbformat": 4,
 "nbformat_minor": 2
}
